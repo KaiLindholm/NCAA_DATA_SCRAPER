{
 "cells": [
  {
   "cell_type": "code",
   "execution_count": 49,
   "metadata": {},
   "outputs": [],
   "source": [
    "import requests\n",
    "import pandas as pd\n",
    "from html_table_extractor.extractor import Extractor"
   ]
  },
  {
   "cell_type": "code",
   "execution_count": 50,
   "metadata": {},
   "outputs": [],
   "source": [
    "def cleaning(data: list):\n",
    "    cleaned = []\n",
    "    for i in range(1,len(data)):\n",
    "        cleaned.append(data[i][:])\n",
    "    return cleaned\n"
   ]
  },
  {
   "cell_type": "code",
   "execution_count": 3,
   "metadata": {},
   "outputs": [],
   "source": [
    "full_data = []\n",
    "for i in range(1,8):\n",
    "    url = f\"https://www.ncaa.com/stats/basketball-men/d1/current/team/168/p{i}\"\n",
    "\n",
    "    res = requests.get(url)\n",
    "    beg = res.text.find('<table') \n",
    "    end = res.text.find('</table')\n",
    "    html = res.text[beg:end+8]\n",
    "    \n",
    "    ex = Extractor(html)\n",
    "    ex.parse()\n",
    "    data = ex.return_list()\n",
    "    \n",
    "    head = data[0]\n",
    "    full_data.extend(cleaning(data))\n",
    "    "
   ]
  },
  {
   "cell_type": "code",
   "execution_count": 4,
   "metadata": {},
   "outputs": [],
   "source": [
    "df = pd.DataFrame(data=full_data, columns=head)\n",
    "#df.to_csv(\"output.csv\", index=False)"
   ]
  },
  {
   "cell_type": "code",
   "execution_count": 5,
   "metadata": {},
   "outputs": [],
   "source": [
    "# EXCEL OUTPUT\n",
    "writer = pd.ExcelWriter('cbb_data.xlsx', engine='xlsxwriter')\n",
    "df = pd.DataFrame(data=full_data, columns=head)\n",
    "df.to_excel(writer, sheet_name=\"Data\")\n",
    "writer.save()"
   ]
  },
  {
   "cell_type": "code",
   "execution_count": 47,
   "metadata": {},
   "outputs": [
    {
     "data": {
      "text/plain": [
       "True"
      ]
     },
     "execution_count": 47,
     "metadata": {},
     "output_type": "execute_result"
    }
   ],
   "source": [
    "test = [['1','ten'], ['1','two']]\n",
    "isinstance(1, int)"
   ]
  },
  {
   "cell_type": "code",
   "execution_count": 19,
   "metadata": {},
   "outputs": [
    {
     "data": {
      "text/plain": [
       "[['1', 'ten']]"
      ]
     },
     "execution_count": 19,
     "metadata": {},
     "output_type": "execute_result"
    }
   ],
   "source": [
    "test"
   ]
  },
  {
   "cell_type": "code",
   "execution_count": 48,
   "metadata": {},
   "outputs": [
    {
     "data": {
      "text/plain": [
       "[[1, 'two']]"
      ]
     },
     "execution_count": 48,
     "metadata": {},
     "output_type": "execute_result"
    }
   ],
   "source": [
    "test = [[int(val) if val.isdigit() else val for j in range(n)] for i in range(m)]"
   ]
  },
  {
   "cell_type": "code",
   "execution_count": null,
   "metadata": {},
   "outputs": [],
   "source": []
  }
 ],
 "metadata": {
  "interpreter": {
   "hash": "69eb92836b941e979072a76c7fcfffe5419cca933cedd02cfafbdfca1a93358c"
  },
  "kernelspec": {
   "display_name": "Python 3.9.10 64-bit",
   "language": "python",
   "name": "python3"
  },
  "language_info": {
   "codemirror_mode": {
    "name": "ipython",
    "version": 3
   },
   "file_extension": ".py",
   "mimetype": "text/x-python",
   "name": "python",
   "nbconvert_exporter": "python",
   "pygments_lexer": "ipython3",
   "version": "3.9.10"
  },
  "orig_nbformat": 4
 },
 "nbformat": 4,
 "nbformat_minor": 2
}
